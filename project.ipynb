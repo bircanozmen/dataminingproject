Open In Colab
from google.colab import files
  
  
uploaded = files.upload()
Upload widget is only available when the cell has been executed in the current browser session. Please rerun this cell to enable.
Saving survey lung cancer.csv to survey lung cancer.csv
import numpy as np
import pandas as pd
import matplotlib.pyplot as plt
import seaborn as sns

from sklearn.preprocessing import LabelEncoder
from sklearn.preprocessing import StandardScaler
from sklearn.model_selection import train_test_split

from sklearn.linear_model import LogisticRegression
from sklearn.svm import SVC
from sklearn.neural_network import MLPClassifier
data = pd.read_csv("survey lung cancer.csv")
data
mappings = list()

encoder = LabelEncoder()

for column in range(len(data.columns)):
    data[data.columns[column]] = encoder.fit_transform(data[data.columns[column]])
    mappings_dict = {index: label for index, label in enumerate(encoder.classes_)}
    mappings.append(mappings_dict)
mappings
data.info() #it will bring the data info
data.describe().T # In this line we can see rate of the count,	mean,	std,	min,	25%, 50%	,75%	max
data["LUNG_CANCER"].unique() # The array of the Lung Cancer is 0 or 1. It means yes or no.
array([1, 0])
data["GENDER"].unique() # We can see type of gender in this lin. We have two type of gender so our list items are 0 and 1.
array([1, 0])
print ('Total Healthy Patients : {} '.format(data.LUNG_CANCER.value_counts()[0]))
print ('Total Suspected Patients : {} '.format(data.LUNG_CANCER.value_counts()[1])) #According to the calculating we can analyse number of the healthy/ suspected patients in this line
Total Healthy Patients : 39 
Total Suspected Patients : 270 
values = data['LUNG_CANCER'].value_counts().tolist()
names = list(dict(data['LUNG_CANCER'].value_counts()).keys())

px.pie(data, values=values, names=names, hole = 0.5,
       color_discrete_sequence=["firebrick", "blue"]) # In this line ı tried to show gradian about percentage of the total participant status according to the lung cancer.  
       #Hole means rate of the empty circle. I used color palette to make more invisible it.
x = data['LUNG_CANCER'].value_counts().index.tolist()
y = data['LUNG_CANCER'].value_counts().tolist()

fig = px.bar(x=x, y=y, color=["firebrick", "blue"], color_discrete_map="identity",
             labels={
                'x': 'LUNG_CANCER',
                'y': 'count'
                },)
fig.show()
X = data.drop("LUNG_CANCER", axis=1)
X.head() # we can assume the result as a only 0 or 1.
# y data
y = data["LUNG_CANCER"]
y.head()
from imblearn.over_sampling import RandomOverSampler

over_samp =  RandomOverSampler(random_state=0)
X_train_res, y_train_res = over_samp.fit_resample(X, y)
X_train_res.shape, y_train_res.shape
((540, 15), (540,))
from sklearn.model_selection import train_test_split
X_train, X_test, y_train, y_test = train_test_split(X_train_res, y_train_res, test_size = 0.2, random_state = 42)
len(X_train), len(X_test)
(432, 108)
from sklearn.preprocessing import StandardScaler
scaler = StandardScaler()
X_train = scaler.fit_transform(X_train)
X_test = scaler.transform(X_test)
from sklearn.linear_model import LinearRegression
lr = LinearRegression()
lr.fit(X_train, y_train)
LinearRegression()
LinearRegressionScore = lr.score(X_test,y_test)
print("Accuracy obtained by Linear Regression model:",LinearRegressionScore*100) # in thisline we calculate the Linear Refression Score
from sklearn.ensemble import RandomForestClassifier # we identified X_train and y_train for making random Forest Classifier
rfc = RandomForestClassifier(n_estimators = 100)
rfc.fit(X_train,y_train)
RandomForestClassifierScore = rfc.score(X_test, y_test)
print("Accuracy obtained by Random Forest Classifier model:",RandomForestClassifierScore*100) # We assumed the score of the random forest classifier score inn this line
Accuracy obtained by Random Forest Classifier model: 99.07407407407408
